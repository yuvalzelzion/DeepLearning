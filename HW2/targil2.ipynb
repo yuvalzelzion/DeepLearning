{
  "nbformat": 4,
  "nbformat_minor": 0,
  "metadata": {
    "colab": {
      "name": "targil2.ipynb",
      "provenance": []
    },
    "kernelspec": {
      "name": "python3",
      "display_name": "Python 3"
    },
    "language_info": {
      "name": "python"
    },
    "accelerator": "GPU"
  },
  "cells": [
    {
      "cell_type": "markdown",
      "metadata": {
        "id": "IEI3J9ULn3K7"
      },
      "source": [
        "# Install"
      ]
    },
    {
      "cell_type": "markdown",
      "metadata": {
        "id": "MsuReRMYob6K"
      },
      "source": [
        "## Install required dependencies."
      ]
    },
    {
      "cell_type": "code",
      "metadata": {
        "colab": {
          "base_uri": "https://localhost:8080/"
        },
        "id": "c0VdPLXh6fT_",
        "outputId": "3b9cb87d-7f90-4853-987f-39799f3835a3"
      },
      "source": [
        "!pip install torch===1.7.1+cu110 torchvision===0.8.2+cu110 torchaudio===0.7.2 -f https://download.pytorch.org/whl/torch_stable.html"
      ],
      "execution_count": null,
      "outputs": [
        {
          "output_type": "stream",
          "text": [
            "Looking in links: https://download.pytorch.org/whl/torch_stable.html\n",
            "Requirement already satisfied: torch===1.7.1+cu110 in /usr/local/lib/python3.7/dist-packages (1.7.1+cu110)\n",
            "Requirement already satisfied: torchvision===0.8.2+cu110 in /usr/local/lib/python3.7/dist-packages (0.8.2+cu110)\n",
            "Requirement already satisfied: torchaudio===0.7.2 in /usr/local/lib/python3.7/dist-packages (0.7.2)\n",
            "Requirement already satisfied: numpy in /usr/local/lib/python3.7/dist-packages (from torch===1.7.1+cu110) (1.19.5)\n",
            "Requirement already satisfied: typing-extensions in /usr/local/lib/python3.7/dist-packages (from torch===1.7.1+cu110) (3.7.4.3)\n",
            "Requirement already satisfied: pillow>=4.1.1 in /usr/local/lib/python3.7/dist-packages (from torchvision===0.8.2+cu110) (7.1.2)\n"
          ],
          "name": "stdout"
        }
      ]
    },
    {
      "cell_type": "code",
      "metadata": {
        "id": "YjJ7dGYuZ6Zd"
      },
      "source": [
        "! pip install pyyaml==5.1 pycocotools>=2.0.1"
      ],
      "execution_count": null,
      "outputs": []
    },
    {
      "cell_type": "markdown",
      "metadata": {
        "id": "LcuOgvXXn_a7"
      },
      "source": [
        "## Clone git repository."
      ]
    },
    {
      "cell_type": "code",
      "metadata": {
        "colab": {
          "base_uri": "https://localhost:8080/"
        },
        "id": "yk0hbPpm6wRB",
        "outputId": "6002b9c6-92a5-4061-b588-bf7a4999c824"
      },
      "source": [
        "!git clone https://github.com/PeizeSun/OneNet.git\n"
      ],
      "execution_count": 1,
      "outputs": [
        {
          "output_type": "stream",
          "text": [
            "Cloning into 'OneNet'...\n",
            "remote: Enumerating objects: 602, done.\u001b[K\n",
            "remote: Counting objects: 100% (602/602), done.\u001b[K\n",
            "remote: Compressing objects: 100% (499/499), done.\u001b[K\n",
            "remote: Total 602 (delta 135), reused 523 (delta 93), pack-reused 0\u001b[K\n",
            "Receiving objects: 100% (602/602), 1.50 MiB | 6.74 MiB/s, done.\n",
            "Resolving deltas: 100% (135/135), done.\n"
          ],
          "name": "stdout"
        }
      ]
    },
    {
      "cell_type": "code",
      "metadata": {
        "colab": {
          "base_uri": "https://localhost:8080/"
        },
        "id": "_gYnTZbZ778V",
        "outputId": "68f2a489-530e-4591-92a4-550de8edff0e"
      },
      "source": [
        "%cd OneNet"
      ],
      "execution_count": 2,
      "outputs": [
        {
          "output_type": "stream",
          "text": [
            "/content/OneNet\n"
          ],
          "name": "stdout"
        }
      ]
    },
    {
      "cell_type": "markdown",
      "metadata": {
        "id": "MUhOP4XSoM-a"
      },
      "source": [
        "## Setup the app cloned from github."
      ]
    },
    {
      "cell_type": "code",
      "metadata": {
        "colab": {
          "base_uri": "https://localhost:8080/"
        },
        "id": "8bO9iYa98C0E",
        "outputId": "0fe544b0-52cc-4534-b708-6b33692c60c4"
      },
      "source": [
        "!python setup.py build develop"
      ],
      "execution_count": null,
      "outputs": [
        {
          "output_type": "stream",
          "text": [
            "running build\n",
            "running build_py\n",
            "creating build\n",
            "creating build/lib.linux-x86_64-3.7\n",
            "creating build/lib.linux-x86_64-3.7/detectron2\n",
            "copying detectron2/__init__.py -> build/lib.linux-x86_64-3.7/detectron2\n",
            "creating build/lib.linux-x86_64-3.7/detectron2/solver\n",
            "copying detectron2/solver/build.py -> build/lib.linux-x86_64-3.7/detectron2/solver\n",
            "copying detectron2/solver/lr_scheduler.py -> build/lib.linux-x86_64-3.7/detectron2/solver\n",
            "copying detectron2/solver/__init__.py -> build/lib.linux-x86_64-3.7/detectron2/solver\n",
            "creating build/lib.linux-x86_64-3.7/detectron2/config\n",
            "copying detectron2/config/compat.py -> build/lib.linux-x86_64-3.7/detectron2/config\n",
            "copying detectron2/config/defaults.py -> build/lib.linux-x86_64-3.7/detectron2/config\n",
            "copying detectron2/config/config.py -> build/lib.linux-x86_64-3.7/detectron2/config\n",
            "copying detectron2/config/__init__.py -> build/lib.linux-x86_64-3.7/detectron2/config\n",
            "creating build/lib.linux-x86_64-3.7/detectron2/structures\n",
            "copying detectron2/structures/boxes.py -> build/lib.linux-x86_64-3.7/detectron2/structures\n",
            "copying detectron2/structures/image_list.py -> build/lib.linux-x86_64-3.7/detectron2/structures\n",
            "copying detectron2/structures/rotated_boxes.py -> build/lib.linux-x86_64-3.7/detectron2/structures\n",
            "copying detectron2/structures/keypoints.py -> build/lib.linux-x86_64-3.7/detectron2/structures\n",
            "copying detectron2/structures/instances.py -> build/lib.linux-x86_64-3.7/detectron2/structures\n",
            "copying detectron2/structures/masks.py -> build/lib.linux-x86_64-3.7/detectron2/structures\n",
            "copying detectron2/structures/__init__.py -> build/lib.linux-x86_64-3.7/detectron2/structures\n",
            "creating build/lib.linux-x86_64-3.7/detectron2/export\n",
            "copying detectron2/export/api.py -> build/lib.linux-x86_64-3.7/detectron2/export\n",
            "copying detectron2/export/torchscript_patch.py -> build/lib.linux-x86_64-3.7/detectron2/export\n",
            "copying detectron2/export/c10.py -> build/lib.linux-x86_64-3.7/detectron2/export\n",
            "copying detectron2/export/caffe2_export.py -> build/lib.linux-x86_64-3.7/detectron2/export\n",
            "copying detectron2/export/caffe2_modeling.py -> build/lib.linux-x86_64-3.7/detectron2/export\n",
            "copying detectron2/export/caffe2_patch.py -> build/lib.linux-x86_64-3.7/detectron2/export\n",
            "copying detectron2/export/caffe2_inference.py -> build/lib.linux-x86_64-3.7/detectron2/export\n",
            "copying detectron2/export/torchscript.py -> build/lib.linux-x86_64-3.7/detectron2/export\n",
            "copying detectron2/export/shared.py -> build/lib.linux-x86_64-3.7/detectron2/export\n",
            "copying detectron2/export/__init__.py -> build/lib.linux-x86_64-3.7/detectron2/export\n",
            "creating build/lib.linux-x86_64-3.7/detectron2/evaluation\n",
            "copying detectron2/evaluation/fast_eval_api.py -> build/lib.linux-x86_64-3.7/detectron2/evaluation\n",
            "copying detectron2/evaluation/panoptic_evaluation.py -> build/lib.linux-x86_64-3.7/detectron2/evaluation\n",
            "copying detectron2/evaluation/evaluator.py -> build/lib.linux-x86_64-3.7/detectron2/evaluation\n",
            "copying detectron2/evaluation/cityscapes_evaluation.py -> build/lib.linux-x86_64-3.7/detectron2/evaluation\n",
            "copying detectron2/evaluation/sem_seg_evaluation.py -> build/lib.linux-x86_64-3.7/detectron2/evaluation\n",
            "copying detectron2/evaluation/coco_evaluation.py -> build/lib.linux-x86_64-3.7/detectron2/evaluation\n",
            "copying detectron2/evaluation/testing.py -> build/lib.linux-x86_64-3.7/detectron2/evaluation\n",
            "copying detectron2/evaluation/pascal_voc_evaluation.py -> build/lib.linux-x86_64-3.7/detectron2/evaluation\n",
            "copying detectron2/evaluation/lvis_evaluation.py -> build/lib.linux-x86_64-3.7/detectron2/evaluation\n",
            "copying detectron2/evaluation/rotated_coco_evaluation.py -> build/lib.linux-x86_64-3.7/detectron2/evaluation\n",
            "copying detectron2/evaluation/__init__.py -> build/lib.linux-x86_64-3.7/detectron2/evaluation\n",
            "creating build/lib.linux-x86_64-3.7/detectron2/utils\n",
            "copying detectron2/utils/registry.py -> build/lib.linux-x86_64-3.7/detectron2/utils\n",
            "copying detectron2/utils/analysis.py -> build/lib.linux-x86_64-3.7/detectron2/utils\n",
            "copying detectron2/utils/collect_env.py -> build/lib.linux-x86_64-3.7/detectron2/utils\n",
            "copying detectron2/utils/visualizer.py -> build/lib.linux-x86_64-3.7/detectron2/utils\n",
            "copying detectron2/utils/testing.py -> build/lib.linux-x86_64-3.7/detectron2/utils\n",
            "copying detectron2/utils/comm.py -> build/lib.linux-x86_64-3.7/detectron2/utils\n",
            "copying detectron2/utils/file_io.py -> build/lib.linux-x86_64-3.7/detectron2/utils\n",
            "copying detectron2/utils/env.py -> build/lib.linux-x86_64-3.7/detectron2/utils\n",
            "copying detectron2/utils/video_visualizer.py -> build/lib.linux-x86_64-3.7/detectron2/utils\n",
            "copying detectron2/utils/serialize.py -> build/lib.linux-x86_64-3.7/detectron2/utils\n",
            "copying detectron2/utils/events.py -> build/lib.linux-x86_64-3.7/detectron2/utils\n",
            "copying detectron2/utils/colormap.py -> build/lib.linux-x86_64-3.7/detectron2/utils\n",
            "copying detectron2/utils/logger.py -> build/lib.linux-x86_64-3.7/detectron2/utils\n",
            "copying detectron2/utils/__init__.py -> build/lib.linux-x86_64-3.7/detectron2/utils\n",
            "copying detectron2/utils/memory.py -> build/lib.linux-x86_64-3.7/detectron2/utils\n",
            "creating build/lib.linux-x86_64-3.7/detectron2/checkpoint\n",
            "copying detectron2/checkpoint/c2_model_loading.py -> build/lib.linux-x86_64-3.7/detectron2/checkpoint\n",
            "copying detectron2/checkpoint/catalog.py -> build/lib.linux-x86_64-3.7/detectron2/checkpoint\n",
            "copying detectron2/checkpoint/__init__.py -> build/lib.linux-x86_64-3.7/detectron2/checkpoint\n",
            "copying detectron2/checkpoint/detection_checkpoint.py -> build/lib.linux-x86_64-3.7/detectron2/checkpoint\n",
            "creating build/lib.linux-x86_64-3.7/detectron2/model_zoo\n",
            "copying detectron2/model_zoo/model_zoo.py -> build/lib.linux-x86_64-3.7/detectron2/model_zoo\n",
            "copying detectron2/model_zoo/__init__.py -> build/lib.linux-x86_64-3.7/detectron2/model_zoo\n",
            "creating build/lib.linux-x86_64-3.7/detectron2/engine\n",
            "copying detectron2/engine/train_loop.py -> build/lib.linux-x86_64-3.7/detectron2/engine\n",
            "copying detectron2/engine/launch.py -> build/lib.linux-x86_64-3.7/detectron2/engine\n",
            "copying detectron2/engine/defaults.py -> build/lib.linux-x86_64-3.7/detectron2/engine\n",
            "copying detectron2/engine/hooks.py -> build/lib.linux-x86_64-3.7/detectron2/engine\n",
            "copying detectron2/engine/__init__.py -> build/lib.linux-x86_64-3.7/detectron2/engine\n",
            "creating build/lib.linux-x86_64-3.7/detectron2/projects\n",
            "copying detectron2/projects/__init__.py -> build/lib.linux-x86_64-3.7/detectron2/projects\n",
            "creating build/lib.linux-x86_64-3.7/detectron2/data\n",
            "copying detectron2/data/dataset_mapper.py -> build/lib.linux-x86_64-3.7/detectron2/data\n",
            "copying detectron2/data/common.py -> build/lib.linux-x86_64-3.7/detectron2/data\n",
            "copying detectron2/data/build.py -> build/lib.linux-x86_64-3.7/detectron2/data\n",
            "copying detectron2/data/detection_utils.py -> build/lib.linux-x86_64-3.7/detectron2/data\n",
            "copying detectron2/data/catalog.py -> build/lib.linux-x86_64-3.7/detectron2/data\n",
            "copying detectron2/data/__init__.py -> build/lib.linux-x86_64-3.7/detectron2/data\n",
            "creating build/lib.linux-x86_64-3.7/detectron2/modeling\n",
            "copying detectron2/modeling/anchor_generator.py -> build/lib.linux-x86_64-3.7/detectron2/modeling\n",
            "copying detectron2/modeling/matcher.py -> build/lib.linux-x86_64-3.7/detectron2/modeling\n",
            "copying detectron2/modeling/box_regression.py -> build/lib.linux-x86_64-3.7/detectron2/modeling\n",
            "copying detectron2/modeling/test_time_augmentation.py -> build/lib.linux-x86_64-3.7/detectron2/modeling\n",
            "copying detectron2/modeling/poolers.py -> build/lib.linux-x86_64-3.7/detectron2/modeling\n",
            "copying detectron2/modeling/sampling.py -> build/lib.linux-x86_64-3.7/detectron2/modeling\n",
            "copying detectron2/modeling/postprocessing.py -> build/lib.linux-x86_64-3.7/detectron2/modeling\n",
            "copying detectron2/modeling/__init__.py -> build/lib.linux-x86_64-3.7/detectron2/modeling\n",
            "creating build/lib.linux-x86_64-3.7/detectron2/layers\n",
            "copying detectron2/layers/mask_ops.py -> build/lib.linux-x86_64-3.7/detectron2/layers\n",
            "copying detectron2/layers/roi_align.py -> build/lib.linux-x86_64-3.7/detectron2/layers\n",
            "copying detectron2/layers/deform_conv.py -> build/lib.linux-x86_64-3.7/detectron2/layers\n",
            "copying detectron2/layers/roi_align_rotated.py -> build/lib.linux-x86_64-3.7/detectron2/layers\n",
            "copying detectron2/layers/rotated_boxes.py -> build/lib.linux-x86_64-3.7/detectron2/layers\n",
            "copying detectron2/layers/aspp.py -> build/lib.linux-x86_64-3.7/detectron2/layers\n",
            "copying detectron2/layers/blocks.py -> build/lib.linux-x86_64-3.7/detectron2/layers\n",
            "copying detectron2/layers/wrappers.py -> build/lib.linux-x86_64-3.7/detectron2/layers\n",
            "copying detectron2/layers/shape_spec.py -> build/lib.linux-x86_64-3.7/detectron2/layers\n",
            "copying detectron2/layers/nms.py -> build/lib.linux-x86_64-3.7/detectron2/layers\n",
            "copying detectron2/layers/__init__.py -> build/lib.linux-x86_64-3.7/detectron2/layers\n",
            "copying detectron2/layers/batch_norm.py -> build/lib.linux-x86_64-3.7/detectron2/layers\n",
            "creating build/lib.linux-x86_64-3.7/detectron2/data/datasets\n",
            "copying detectron2/data/datasets/builtin.py -> build/lib.linux-x86_64-3.7/detectron2/data/datasets\n",
            "copying detectron2/data/datasets/cityscapes.py -> build/lib.linux-x86_64-3.7/detectron2/data/datasets\n",
            "copying detectron2/data/datasets/lvis_v1_categories.py -> build/lib.linux-x86_64-3.7/detectron2/data/datasets\n",
            "copying detectron2/data/datasets/pascal_voc.py -> build/lib.linux-x86_64-3.7/detectron2/data/datasets\n",
            "copying detectron2/data/datasets/cityscapes_panoptic.py -> build/lib.linux-x86_64-3.7/detectron2/data/datasets\n",
            "copying detectron2/data/datasets/register_coco.py -> build/lib.linux-x86_64-3.7/detectron2/data/datasets\n",
            "copying detectron2/data/datasets/coco_panoptic.py -> build/lib.linux-x86_64-3.7/detectron2/data/datasets\n",
            "copying detectron2/data/datasets/coco.py -> build/lib.linux-x86_64-3.7/detectron2/data/datasets\n",
            "copying detectron2/data/datasets/lvis.py -> build/lib.linux-x86_64-3.7/detectron2/data/datasets\n",
            "copying detectron2/data/datasets/lvis_v0_5_categories.py -> build/lib.linux-x86_64-3.7/detectron2/data/datasets\n",
            "copying detectron2/data/datasets/__init__.py -> build/lib.linux-x86_64-3.7/detectron2/data/datasets\n",
            "copying detectron2/data/datasets/builtin_meta.py -> build/lib.linux-x86_64-3.7/detectron2/data/datasets\n",
            "creating build/lib.linux-x86_64-3.7/detectron2/data/samplers\n",
            "copying detectron2/data/samplers/distributed_sampler.py -> build/lib.linux-x86_64-3.7/detectron2/data/samplers\n",
            "copying detectron2/data/samplers/grouped_batch_sampler.py -> build/lib.linux-x86_64-3.7/detectron2/data/samplers\n",
            "copying detectron2/data/samplers/__init__.py -> build/lib.linux-x86_64-3.7/detectron2/data/samplers\n",
            "creating build/lib.linux-x86_64-3.7/detectron2/data/transforms\n",
            "copying detectron2/data/transforms/augmentation.py -> build/lib.linux-x86_64-3.7/detectron2/data/transforms\n",
            "copying detectron2/data/transforms/transform.py -> build/lib.linux-x86_64-3.7/detectron2/data/transforms\n",
            "copying detectron2/data/transforms/__init__.py -> build/lib.linux-x86_64-3.7/detectron2/data/transforms\n",
            "copying detectron2/data/transforms/augmentation_impl.py -> build/lib.linux-x86_64-3.7/detectron2/data/transforms\n",
            "creating build/lib.linux-x86_64-3.7/detectron2/modeling/proposal_generator\n",
            "copying detectron2/modeling/proposal_generator/rrpn.py -> build/lib.linux-x86_64-3.7/detectron2/modeling/proposal_generator\n",
            "copying detectron2/modeling/proposal_generator/build.py -> build/lib.linux-x86_64-3.7/detectron2/modeling/proposal_generator\n",
            "copying detectron2/modeling/proposal_generator/rpn.py -> build/lib.linux-x86_64-3.7/detectron2/modeling/proposal_generator\n",
            "copying detectron2/modeling/proposal_generator/proposal_utils.py -> build/lib.linux-x86_64-3.7/detectron2/modeling/proposal_generator\n",
            "copying detectron2/modeling/proposal_generator/__init__.py -> build/lib.linux-x86_64-3.7/detectron2/modeling/proposal_generator\n",
            "creating build/lib.linux-x86_64-3.7/detectron2/modeling/roi_heads\n",
            "copying detectron2/modeling/roi_heads/fast_rcnn.py -> build/lib.linux-x86_64-3.7/detectron2/modeling/roi_heads\n",
            "copying detectron2/modeling/roi_heads/cascade_rcnn.py -> build/lib.linux-x86_64-3.7/detectron2/modeling/roi_heads\n",
            "copying detectron2/modeling/roi_heads/mask_head.py -> build/lib.linux-x86_64-3.7/detectron2/modeling/roi_heads\n",
            "copying detectron2/modeling/roi_heads/box_head.py -> build/lib.linux-x86_64-3.7/detectron2/modeling/roi_heads\n",
            "copying detectron2/modeling/roi_heads/roi_heads.py -> build/lib.linux-x86_64-3.7/detectron2/modeling/roi_heads\n",
            "copying detectron2/modeling/roi_heads/keypoint_head.py -> build/lib.linux-x86_64-3.7/detectron2/modeling/roi_heads\n",
            "copying detectron2/modeling/roi_heads/rotated_fast_rcnn.py -> build/lib.linux-x86_64-3.7/detectron2/modeling/roi_heads\n",
            "copying detectron2/modeling/roi_heads/__init__.py -> build/lib.linux-x86_64-3.7/detectron2/modeling/roi_heads\n",
            "creating build/lib.linux-x86_64-3.7/detectron2/modeling/meta_arch\n",
            "copying detectron2/modeling/meta_arch/build.py -> build/lib.linux-x86_64-3.7/detectron2/modeling/meta_arch\n",
            "copying detectron2/modeling/meta_arch/retinanet.py -> build/lib.linux-x86_64-3.7/detectron2/modeling/meta_arch\n",
            "copying detectron2/modeling/meta_arch/panoptic_fpn.py -> build/lib.linux-x86_64-3.7/detectron2/modeling/meta_arch\n",
            "copying detectron2/modeling/meta_arch/__init__.py -> build/lib.linux-x86_64-3.7/detectron2/modeling/meta_arch\n",
            "copying detectron2/modeling/meta_arch/rcnn.py -> build/lib.linux-x86_64-3.7/detectron2/modeling/meta_arch\n",
            "copying detectron2/modeling/meta_arch/semantic_seg.py -> build/lib.linux-x86_64-3.7/detectron2/modeling/meta_arch\n",
            "creating build/lib.linux-x86_64-3.7/detectron2/modeling/backbone\n",
            "copying detectron2/modeling/backbone/fpn.py -> build/lib.linux-x86_64-3.7/detectron2/modeling/backbone\n",
            "copying detectron2/modeling/backbone/build.py -> build/lib.linux-x86_64-3.7/detectron2/modeling/backbone\n",
            "copying detectron2/modeling/backbone/resnet.py -> build/lib.linux-x86_64-3.7/detectron2/modeling/backbone\n",
            "copying detectron2/modeling/backbone/backbone.py -> build/lib.linux-x86_64-3.7/detectron2/modeling/backbone\n",
            "copying detectron2/modeling/backbone/__init__.py -> build/lib.linux-x86_64-3.7/detectron2/modeling/backbone\n",
            "creating build/lib.linux-x86_64-3.7/detectron2/model_zoo/configs\n",
            "copying detectron2/model_zoo/configs/Base-RCNN-FPN.yaml -> build/lib.linux-x86_64-3.7/detectron2/model_zoo/configs\n",
            "copying detectron2/model_zoo/configs/Base-RCNN-DilatedC5.yaml -> build/lib.linux-x86_64-3.7/detectron2/model_zoo/configs\n",
            "copying detectron2/model_zoo/configs/Base-RCNN-C4.yaml -> build/lib.linux-x86_64-3.7/detectron2/model_zoo/configs\n",
            "copying detectron2/model_zoo/configs/Base-RetinaNet.yaml -> build/lib.linux-x86_64-3.7/detectron2/model_zoo/configs\n",
            "creating build/lib.linux-x86_64-3.7/detectron2/model_zoo/configs/COCO-PanopticSegmentation\n",
            "copying detectron2/model_zoo/configs/COCO-PanopticSegmentation/panoptic_fpn_R_101_3x.yaml -> build/lib.linux-x86_64-3.7/detectron2/model_zoo/configs/COCO-PanopticSegmentation\n",
            "copying detectron2/model_zoo/configs/COCO-PanopticSegmentation/panoptic_fpn_R_50_1x.yaml -> build/lib.linux-x86_64-3.7/detectron2/model_zoo/configs/COCO-PanopticSegmentation\n",
            "copying detectron2/model_zoo/configs/COCO-PanopticSegmentation/Base-Panoptic-FPN.yaml -> build/lib.linux-x86_64-3.7/detectron2/model_zoo/configs/COCO-PanopticSegmentation\n",
            "copying detectron2/model_zoo/configs/COCO-PanopticSegmentation/panoptic_fpn_R_50_3x.yaml -> build/lib.linux-x86_64-3.7/detectron2/model_zoo/configs/COCO-PanopticSegmentation\n",
            "creating build/lib.linux-x86_64-3.7/detectron2/model_zoo/configs/Misc\n",
            "copying detectron2/model_zoo/configs/Misc/mask_rcnn_R_50_FPN_3x_gn.yaml -> build/lib.linux-x86_64-3.7/detectron2/model_zoo/configs/Misc\n",
            "copying detectron2/model_zoo/configs/Misc/scratch_mask_rcnn_R_50_FPN_9x_syncbn.yaml -> build/lib.linux-x86_64-3.7/detectron2/model_zoo/configs/Misc\n",
            "copying detectron2/model_zoo/configs/Misc/cascade_mask_rcnn_X_152_32x8d_FPN_IN5k_gn_dconv.yaml -> build/lib.linux-x86_64-3.7/detectron2/model_zoo/configs/Misc\n",
            "copying detectron2/model_zoo/configs/Misc/scratch_mask_rcnn_R_50_FPN_3x_gn.yaml -> build/lib.linux-x86_64-3.7/detectron2/model_zoo/configs/Misc\n",
            "copying detectron2/model_zoo/configs/Misc/cascade_mask_rcnn_R_50_FPN_3x.yaml -> build/lib.linux-x86_64-3.7/detectron2/model_zoo/configs/Misc\n",
            "copying detectron2/model_zoo/configs/Misc/cascade_mask_rcnn_R_50_FPN_1x.yaml -> build/lib.linux-x86_64-3.7/detectron2/model_zoo/configs/Misc\n",
            "copying detectron2/model_zoo/configs/Misc/mask_rcnn_R_50_FPN_1x_cls_agnostic.yaml -> build/lib.linux-x86_64-3.7/detectron2/model_zoo/configs/Misc\n",
            "copying detectron2/model_zoo/configs/Misc/scratch_mask_rcnn_R_50_FPN_9x_gn.yaml -> build/lib.linux-x86_64-3.7/detectron2/model_zoo/configs/Misc\n",
            "copying detectron2/model_zoo/configs/Misc/panoptic_fpn_R_101_dconv_cascade_gn_3x.yaml -> build/lib.linux-x86_64-3.7/detectron2/model_zoo/configs/Misc\n",
            "copying detectron2/model_zoo/configs/Misc/mask_rcnn_R_50_FPN_3x_dconv_c3-c5.yaml -> build/lib.linux-x86_64-3.7/detectron2/model_zoo/configs/Misc\n",
            "copying detectron2/model_zoo/configs/Misc/semantic_R_50_FPN_1x.yaml -> build/lib.linux-x86_64-3.7/detectron2/model_zoo/configs/Misc\n",
            "copying detectron2/model_zoo/configs/Misc/mask_rcnn_R_50_FPN_1x_dconv_c3-c5.yaml -> build/lib.linux-x86_64-3.7/detectron2/model_zoo/configs/Misc\n",
            "copying detectron2/model_zoo/configs/Misc/mask_rcnn_R_50_FPN_3x_syncbn.yaml -> build/lib.linux-x86_64-3.7/detectron2/model_zoo/configs/Misc\n",
            "creating build/lib.linux-x86_64-3.7/detectron2/model_zoo/configs/LVISv0.5-InstanceSegmentation\n",
            "copying detectron2/model_zoo/configs/LVISv0.5-InstanceSegmentation/mask_rcnn_R_101_FPN_1x.yaml -> build/lib.linux-x86_64-3.7/detectron2/model_zoo/configs/LVISv0.5-InstanceSegmentation\n",
            "copying detectron2/model_zoo/configs/LVISv0.5-InstanceSegmentation/mask_rcnn_X_101_32x8d_FPN_1x.yaml -> build/lib.linux-x86_64-3.7/detectron2/model_zoo/configs/LVISv0.5-InstanceSegmentation\n",
            "copying detectron2/model_zoo/configs/LVISv0.5-InstanceSegmentation/mask_rcnn_R_50_FPN_1x.yaml -> build/lib.linux-x86_64-3.7/detectron2/model_zoo/configs/LVISv0.5-InstanceSegmentation\n",
            "creating build/lib.linux-x86_64-3.7/detectron2/model_zoo/configs/COCO-Detection\n",
            "copying detectron2/model_zoo/configs/COCO-Detection/faster_rcnn_R_101_FPN_3x.yaml -> build/lib.linux-x86_64-3.7/detectron2/model_zoo/configs/COCO-Detection\n",
            "copying detectron2/model_zoo/configs/COCO-Detection/faster_rcnn_R_50_C4_1x.yaml -> build/lib.linux-x86_64-3.7/detectron2/model_zoo/configs/COCO-Detection\n",
            "copying detectron2/model_zoo/configs/COCO-Detection/retinanet_R_50_FPN_3x.yaml -> build/lib.linux-x86_64-3.7/detectron2/model_zoo/configs/COCO-Detection\n",
            "copying detectron2/model_zoo/configs/COCO-Detection/fast_rcnn_R_50_FPN_1x.yaml -> build/lib.linux-x86_64-3.7/detectron2/model_zoo/configs/COCO-Detection\n",
            "copying detectron2/model_zoo/configs/COCO-Detection/retinanet_R_101_FPN_3x.yaml -> build/lib.linux-x86_64-3.7/detectron2/model_zoo/configs/COCO-Detection\n",
            "copying detectron2/model_zoo/configs/COCO-Detection/faster_rcnn_R_101_C4_3x.yaml -> build/lib.linux-x86_64-3.7/detectron2/model_zoo/configs/COCO-Detection\n",
            "copying detectron2/model_zoo/configs/COCO-Detection/faster_rcnn_R_101_DC5_3x.yaml -> build/lib.linux-x86_64-3.7/detectron2/model_zoo/configs/COCO-Detection\n",
            "copying detectron2/model_zoo/configs/COCO-Detection/rpn_R_50_C4_1x.yaml -> build/lib.linux-x86_64-3.7/detectron2/model_zoo/configs/COCO-Detection\n",
            "copying detectron2/model_zoo/configs/COCO-Detection/retinanet_R_50_FPN_1x.yaml -> build/lib.linux-x86_64-3.7/detectron2/model_zoo/configs/COCO-Detection\n",
            "copying detectron2/model_zoo/configs/COCO-Detection/faster_rcnn_R_50_DC5_3x.yaml -> build/lib.linux-x86_64-3.7/detectron2/model_zoo/configs/COCO-Detection\n",
            "copying detectron2/model_zoo/configs/COCO-Detection/faster_rcnn_R_50_FPN_3x.yaml -> build/lib.linux-x86_64-3.7/detectron2/model_zoo/configs/COCO-Detection\n",
            "copying detectron2/model_zoo/configs/COCO-Detection/faster_rcnn_R_50_C4_3x.yaml -> build/lib.linux-x86_64-3.7/detectron2/model_zoo/configs/COCO-Detection\n",
            "copying detectron2/model_zoo/configs/COCO-Detection/faster_rcnn_R_50_DC5_1x.yaml -> build/lib.linux-x86_64-3.7/detectron2/model_zoo/configs/COCO-Detection\n",
            "copying detectron2/model_zoo/configs/COCO-Detection/faster_rcnn_X_101_32x8d_FPN_3x.yaml -> build/lib.linux-x86_64-3.7/detectron2/model_zoo/configs/COCO-Detection\n",
            "copying detectron2/model_zoo/configs/COCO-Detection/faster_rcnn_R_50_FPN_1x.yaml -> build/lib.linux-x86_64-3.7/detectron2/model_zoo/configs/COCO-Detection\n",
            "copying detectron2/model_zoo/configs/COCO-Detection/rpn_R_50_FPN_1x.yaml -> build/lib.linux-x86_64-3.7/detectron2/model_zoo/configs/COCO-Detection\n",
            "creating build/lib.linux-x86_64-3.7/detectron2/model_zoo/configs/COCO-Detection/zhang\n",
            "copying detectron2/model_zoo/configs/COCO-Detection/zhang/faster_rcnn_R_50_C4_1x.yaml -> build/lib.linux-x86_64-3.7/detectron2/model_zoo/configs/COCO-Detection/zhang\n",
            "creating build/lib.linux-x86_64-3.7/detectron2/model_zoo/configs/COCO-InstanceSegmentation\n",
            "copying detectron2/model_zoo/configs/COCO-InstanceSegmentation/mask_rcnn_R_101_DC5_3x.yaml -> build/lib.linux-x86_64-3.7/detectron2/model_zoo/configs/COCO-InstanceSegmentation\n",
            "copying detectron2/model_zoo/configs/COCO-InstanceSegmentation/mask_rcnn_R_50_C4_1x.yaml -> build/lib.linux-x86_64-3.7/detectron2/model_zoo/configs/COCO-InstanceSegmentation\n",
            "copying detectron2/model_zoo/configs/COCO-InstanceSegmentation/mask_rcnn_R_50_C4_3x.yaml -> build/lib.linux-x86_64-3.7/detectron2/model_zoo/configs/COCO-InstanceSegmentation\n",
            "copying detectron2/model_zoo/configs/COCO-InstanceSegmentation/mask_rcnn_R_50_DC5_3x.yaml -> build/lib.linux-x86_64-3.7/detectron2/model_zoo/configs/COCO-InstanceSegmentation\n",
            "copying detectron2/model_zoo/configs/COCO-InstanceSegmentation/mask_rcnn_R_101_C4_3x.yaml -> build/lib.linux-x86_64-3.7/detectron2/model_zoo/configs/COCO-InstanceSegmentation\n",
            "copying detectron2/model_zoo/configs/COCO-InstanceSegmentation/mask_rcnn_R_50_FPN_3x.yaml -> build/lib.linux-x86_64-3.7/detectron2/model_zoo/configs/COCO-InstanceSegmentation\n",
            "copying detectron2/model_zoo/configs/COCO-InstanceSegmentation/mask_rcnn_R_50_DC5_1x.yaml -> build/lib.linux-x86_64-3.7/detectron2/model_zoo/configs/COCO-InstanceSegmentation\n",
            "copying detectron2/model_zoo/configs/COCO-InstanceSegmentation/mask_rcnn_R_50_FPN_1x_giou.yaml -> build/lib.linux-x86_64-3.7/detectron2/model_zoo/configs/COCO-InstanceSegmentation\n",
            "copying detectron2/model_zoo/configs/COCO-InstanceSegmentation/mask_rcnn_X_101_32x8d_FPN_3x.yaml -> build/lib.linux-x86_64-3.7/detectron2/model_zoo/configs/COCO-InstanceSegmentation\n",
            "copying detectron2/model_zoo/configs/COCO-InstanceSegmentation/mask_rcnn_R_50_FPN_1x.yaml -> build/lib.linux-x86_64-3.7/detectron2/model_zoo/configs/COCO-InstanceSegmentation\n",
            "copying detectron2/model_zoo/configs/COCO-InstanceSegmentation/mask_rcnn_R_101_FPN_3x.yaml -> build/lib.linux-x86_64-3.7/detectron2/model_zoo/configs/COCO-InstanceSegmentation\n",
            "creating build/lib.linux-x86_64-3.7/detectron2/model_zoo/configs/Detectron1-Comparisons\n",
            "copying detectron2/model_zoo/configs/Detectron1-Comparisons/keypoint_rcnn_R_50_FPN_1x.yaml -> build/lib.linux-x86_64-3.7/detectron2/model_zoo/configs/Detectron1-Comparisons\n",
            "copying detectron2/model_zoo/configs/Detectron1-Comparisons/faster_rcnn_R_50_FPN_noaug_1x.yaml -> build/lib.linux-x86_64-3.7/detectron2/model_zoo/configs/Detectron1-Comparisons\n",
            "copying detectron2/model_zoo/configs/Detectron1-Comparisons/mask_rcnn_R_50_FPN_noaug_1x.yaml -> build/lib.linux-x86_64-3.7/detectron2/model_zoo/configs/Detectron1-Comparisons\n",
            "creating build/lib.linux-x86_64-3.7/detectron2/model_zoo/configs/quick_schedules\n",
            "copying detectron2/model_zoo/configs/quick_schedules/fast_rcnn_R_50_FPN_inference_acc_test.yaml -> build/lib.linux-x86_64-3.7/detectron2/model_zoo/configs/quick_schedules\n",
            "copying detectron2/model_zoo/configs/quick_schedules/mask_rcnn_R_50_FPN_training_acc_test.yaml -> build/lib.linux-x86_64-3.7/detectron2/model_zoo/configs/quick_schedules\n",
            "copying detectron2/model_zoo/configs/quick_schedules/retinanet_R_50_FPN_instant_test.yaml -> build/lib.linux-x86_64-3.7/detectron2/model_zoo/configs/quick_schedules\n",
            "copying detectron2/model_zoo/configs/quick_schedules/panoptic_fpn_R_50_training_acc_test.yaml -> build/lib.linux-x86_64-3.7/detectron2/model_zoo/configs/quick_schedules\n",
            "copying detectron2/model_zoo/configs/quick_schedules/panoptic_fpn_R_50_instant_test.yaml -> build/lib.linux-x86_64-3.7/detectron2/model_zoo/configs/quick_schedules\n",
            "copying detectron2/model_zoo/configs/quick_schedules/keypoint_rcnn_R_50_FPN_training_acc_test.yaml -> build/lib.linux-x86_64-3.7/detectron2/model_zoo/configs/quick_schedules\n",
            "copying detectron2/model_zoo/configs/quick_schedules/mask_rcnn_R_50_FPN_instant_test.yaml -> build/lib.linux-x86_64-3.7/detectron2/model_zoo/configs/quick_schedules\n",
            "copying detectron2/model_zoo/configs/quick_schedules/mask_rcnn_R_50_FPN_inference_acc_test.yaml -> build/lib.linux-x86_64-3.7/detectron2/model_zoo/configs/quick_schedules\n",
            "copying detectron2/model_zoo/configs/quick_schedules/mask_rcnn_R_50_C4_inference_acc_test.yaml -> build/lib.linux-x86_64-3.7/detectron2/model_zoo/configs/quick_schedules\n",
            "copying detectron2/model_zoo/configs/quick_schedules/mask_rcnn_R_50_DC5_inference_acc_test.yaml -> build/lib.linux-x86_64-3.7/detectron2/model_zoo/configs/quick_schedules\n",
            "copying detectron2/model_zoo/configs/quick_schedules/retinanet_R_50_FPN_inference_acc_test.yaml -> build/lib.linux-x86_64-3.7/detectron2/model_zoo/configs/quick_schedules\n",
            "copying detectron2/model_zoo/configs/quick_schedules/cascade_mask_rcnn_R_50_FPN_inference_acc_test.yaml -> build/lib.linux-x86_64-3.7/detectron2/model_zoo/configs/quick_schedules\n",
            "copying detectron2/model_zoo/configs/quick_schedules/rpn_R_50_FPN_instant_test.yaml -> build/lib.linux-x86_64-3.7/detectron2/model_zoo/configs/quick_schedules\n",
            "copying detectron2/model_zoo/configs/quick_schedules/mask_rcnn_R_50_C4_training_acc_test.yaml -> build/lib.linux-x86_64-3.7/detectron2/model_zoo/configs/quick_schedules\n",
            "copying detectron2/model_zoo/configs/quick_schedules/panoptic_fpn_R_50_inference_acc_test.yaml -> build/lib.linux-x86_64-3.7/detectron2/model_zoo/configs/quick_schedules\n",
            "copying detectron2/model_zoo/configs/quick_schedules/semantic_R_50_FPN_inference_acc_test.yaml -> build/lib.linux-x86_64-3.7/detectron2/model_zoo/configs/quick_schedules\n",
            "copying detectron2/model_zoo/configs/quick_schedules/cascade_mask_rcnn_R_50_FPN_instant_test.yaml -> build/lib.linux-x86_64-3.7/detectron2/model_zoo/configs/quick_schedules\n",
            "copying detectron2/model_zoo/configs/quick_schedules/keypoint_rcnn_R_50_FPN_normalized_training_acc_test.yaml -> build/lib.linux-x86_64-3.7/detectron2/model_zoo/configs/quick_schedules\n",
            "copying detectron2/model_zoo/configs/quick_schedules/semantic_R_50_FPN_training_acc_test.yaml -> build/lib.linux-x86_64-3.7/detectron2/model_zoo/configs/quick_schedules\n",
            "copying detectron2/model_zoo/configs/quick_schedules/mask_rcnn_R_50_C4_instant_test.yaml -> build/lib.linux-x86_64-3.7/detectron2/model_zoo/configs/quick_schedules\n",
            "copying detectron2/model_zoo/configs/quick_schedules/mask_rcnn_R_50_FPN_pred_boxes_training_acc_test.yaml -> build/lib.linux-x86_64-3.7/detectron2/model_zoo/configs/quick_schedules\n",
            "copying detectron2/model_zoo/configs/quick_schedules/semantic_R_50_FPN_instant_test.yaml -> build/lib.linux-x86_64-3.7/detectron2/model_zoo/configs/quick_schedules\n",
            "copying detectron2/model_zoo/configs/quick_schedules/keypoint_rcnn_R_50_FPN_instant_test.yaml -> build/lib.linux-x86_64-3.7/detectron2/model_zoo/configs/quick_schedules\n",
            "copying detectron2/model_zoo/configs/quick_schedules/fast_rcnn_R_50_FPN_instant_test.yaml -> build/lib.linux-x86_64-3.7/detectron2/model_zoo/configs/quick_schedules\n",
            "copying detectron2/model_zoo/configs/quick_schedules/rpn_R_50_FPN_inference_acc_test.yaml -> build/lib.linux-x86_64-3.7/detectron2/model_zoo/configs/quick_schedules\n",
            "copying detectron2/model_zoo/configs/quick_schedules/mask_rcnn_R_50_C4_GCV_instant_test.yaml -> build/lib.linux-x86_64-3.7/detectron2/model_zoo/configs/quick_schedules\n",
            "copying detectron2/model_zoo/configs/quick_schedules/keypoint_rcnn_R_50_FPN_inference_acc_test.yaml -> build/lib.linux-x86_64-3.7/detectron2/model_zoo/configs/quick_schedules\n",
            "creating build/lib.linux-x86_64-3.7/detectron2/model_zoo/configs/Cityscapes\n",
            "copying detectron2/model_zoo/configs/Cityscapes/mask_rcnn_R_50_FPN.yaml -> build/lib.linux-x86_64-3.7/detectron2/model_zoo/configs/Cityscapes\n",
            "creating build/lib.linux-x86_64-3.7/detectron2/model_zoo/configs/PascalVOC-Detection\n",
            "copying detectron2/model_zoo/configs/PascalVOC-Detection/faster_rcnn_R_50_FPN.yaml -> build/lib.linux-x86_64-3.7/detectron2/model_zoo/configs/PascalVOC-Detection\n",
            "copying detectron2/model_zoo/configs/PascalVOC-Detection/faster_rcnn_R_50_C4.yaml -> build/lib.linux-x86_64-3.7/detectron2/model_zoo/configs/PascalVOC-Detection\n",
            "creating build/lib.linux-x86_64-3.7/detectron2/model_zoo/configs/LVISv1-InstanceSegmentation\n",
            "copying detectron2/model_zoo/configs/LVISv1-InstanceSegmentation/mask_rcnn_R_101_FPN_1x.yaml -> build/lib.linux-x86_64-3.7/detectron2/model_zoo/configs/LVISv1-InstanceSegmentation\n",
            "copying detectron2/model_zoo/configs/LVISv1-InstanceSegmentation/mask_rcnn_X_101_32x8d_FPN_1x.yaml -> build/lib.linux-x86_64-3.7/detectron2/model_zoo/configs/LVISv1-InstanceSegmentation\n",
            "copying detectron2/model_zoo/configs/LVISv1-InstanceSegmentation/mask_rcnn_R_50_FPN_1x.yaml -> build/lib.linux-x86_64-3.7/detectron2/model_zoo/configs/LVISv1-InstanceSegmentation\n",
            "creating build/lib.linux-x86_64-3.7/detectron2/model_zoo/configs/COCO-Keypoints\n",
            "copying detectron2/model_zoo/configs/COCO-Keypoints/Base-Keypoint-RCNN-FPN.yaml -> build/lib.linux-x86_64-3.7/detectron2/model_zoo/configs/COCO-Keypoints\n",
            "copying detectron2/model_zoo/configs/COCO-Keypoints/keypoint_rcnn_R_50_FPN_1x.yaml -> build/lib.linux-x86_64-3.7/detectron2/model_zoo/configs/COCO-Keypoints\n",
            "copying detectron2/model_zoo/configs/COCO-Keypoints/keypoint_rcnn_X_101_32x8d_FPN_3x.yaml -> build/lib.linux-x86_64-3.7/detectron2/model_zoo/configs/COCO-Keypoints\n",
            "copying detectron2/model_zoo/configs/COCO-Keypoints/keypoint_rcnn_R_50_FPN_3x.yaml -> build/lib.linux-x86_64-3.7/detectron2/model_zoo/configs/COCO-Keypoints\n",
            "copying detectron2/model_zoo/configs/COCO-Keypoints/keypoint_rcnn_R_101_FPN_3x.yaml -> build/lib.linux-x86_64-3.7/detectron2/model_zoo/configs/COCO-Keypoints\n",
            "running build_ext\n",
            "/usr/local/lib/python3.7/dist-packages/torch/utils/cpp_extension.py:352: UserWarning: Attempted to use ninja as the BuildExtension backend but we could not find ninja.. Falling back to using the slow distutils backend.\n",
            "  warnings.warn(msg.format('we could not find ninja.'))\n",
            "building 'detectron2._C' extension\n",
            "creating build/temp.linux-x86_64-3.7\n",
            "creating build/temp.linux-x86_64-3.7/content\n",
            "creating build/temp.linux-x86_64-3.7/content/OneNet\n",
            "creating build/temp.linux-x86_64-3.7/content/OneNet/OneNet\n",
            "creating build/temp.linux-x86_64-3.7/content/OneNet/OneNet/detectron2\n",
            "creating build/temp.linux-x86_64-3.7/content/OneNet/OneNet/detectron2/layers\n",
            "creating build/temp.linux-x86_64-3.7/content/OneNet/OneNet/detectron2/layers/csrc\n",
            "creating build/temp.linux-x86_64-3.7/content/OneNet/OneNet/detectron2/layers/csrc/ROIAlign\n",
            "creating build/temp.linux-x86_64-3.7/content/OneNet/OneNet/detectron2/layers/csrc/cocoeval\n",
            "creating build/temp.linux-x86_64-3.7/content/OneNet/OneNet/detectron2/layers/csrc/nms_rotated\n",
            "creating build/temp.linux-x86_64-3.7/content/OneNet/OneNet/detectron2/layers/csrc/box_iou_rotated\n",
            "creating build/temp.linux-x86_64-3.7/content/OneNet/OneNet/detectron2/layers/csrc/ROIAlignRotated\n",
            "creating build/temp.linux-x86_64-3.7/content/OneNet/OneNet/detectron2/layers/csrc/deformable\n",
            "x86_64-linux-gnu-gcc -pthread -Wno-unused-result -Wsign-compare -DNDEBUG -g -fwrapv -O2 -Wall -g -fdebug-prefix-map=/build/python3.7-OGiuun/python3.7-3.7.10=. -fstack-protector-strong -Wformat -Werror=format-security -g -fdebug-prefix-map=/build/python3.7-OGiuun/python3.7-3.7.10=. -fstack-protector-strong -Wformat -Werror=format-security -Wdate-time -D_FORTIFY_SOURCE=2 -fPIC -DWITH_CUDA -I/content/OneNet/OneNet/detectron2/layers/csrc -I/usr/local/lib/python3.7/dist-packages/torch/include -I/usr/local/lib/python3.7/dist-packages/torch/include/torch/csrc/api/include -I/usr/local/lib/python3.7/dist-packages/torch/include/TH -I/usr/local/lib/python3.7/dist-packages/torch/include/THC -I/usr/local/cuda/include -I/usr/include/python3.7m -c /content/OneNet/OneNet/detectron2/layers/csrc/vision.cpp -o build/temp.linux-x86_64-3.7/content/OneNet/OneNet/detectron2/layers/csrc/vision.o -DTORCH_API_INCLUDE_EXTENSION_H -DPYBIND11_COMPILER_TYPE=\"_gcc\" -DPYBIND11_STDLIB=\"_libstdcpp\" -DPYBIND11_BUILD_ABI=\"_cxxabi1011\" -DTORCH_EXTENSION_NAME=_C -D_GLIBCXX_USE_CXX11_ABI=0 -std=c++14\n",
            "In file included from \u001b[01m\u001b[K/usr/local/lib/python3.7/dist-packages/torch/include/ATen/Parallel.h:149:0\u001b[m\u001b[K,\n",
            "                 from \u001b[01m\u001b[K/usr/local/lib/python3.7/dist-packages/torch/include/torch/csrc/api/include/torch/utils.h:3\u001b[m\u001b[K,\n",
            "                 from \u001b[01m\u001b[K/usr/local/lib/python3.7/dist-packages/torch/include/torch/csrc/api/include/torch/nn/cloneable.h:5\u001b[m\u001b[K,\n",
            "                 from \u001b[01m\u001b[K/usr/local/lib/python3.7/dist-packages/torch/include/torch/csrc/api/include/torch/nn.h:3\u001b[m\u001b[K,\n",
            "                 from \u001b[01m\u001b[K/usr/local/lib/python3.7/dist-packages/torch/include/torch/csrc/api/include/torch/all.h:12\u001b[m\u001b[K,\n",
            "                 from \u001b[01m\u001b[K/usr/local/lib/python3.7/dist-packages/torch/include/torch/extension.h:4\u001b[m\u001b[K,\n",
            "                 from \u001b[01m\u001b[K/content/OneNet/OneNet/detectron2/layers/csrc/vision.cpp:3\u001b[m\u001b[K:\n",
            "\u001b[01m\u001b[K/usr/local/lib/python3.7/dist-packages/torch/include/ATen/ParallelOpenMP.h:84:0:\u001b[m\u001b[K \u001b[01;35m\u001b[Kwarning: \u001b[m\u001b[Kignoring #pragma omp parallel [\u001b[01;35m\u001b[K-Wunknown-pragmas\u001b[m\u001b[K]\n",
            " #pragma omp parallel for if ((end - begin) >= grain_size)\n",
            " \n",
            "x86_64-linux-gnu-gcc -pthread -Wno-unused-result -Wsign-compare -DNDEBUG -g -fwrapv -O2 -Wall -g -fdebug-prefix-map=/build/python3.7-OGiuun/python3.7-3.7.10=. -fstack-protector-strong -Wformat -Werror=format-security -g -fdebug-prefix-map=/build/python3.7-OGiuun/python3.7-3.7.10=. -fstack-protector-strong -Wformat -Werror=format-security -Wdate-time -D_FORTIFY_SOURCE=2 -fPIC -DWITH_CUDA -I/content/OneNet/OneNet/detectron2/layers/csrc -I/usr/local/lib/python3.7/dist-packages/torch/include -I/usr/local/lib/python3.7/dist-packages/torch/include/torch/csrc/api/include -I/usr/local/lib/python3.7/dist-packages/torch/include/TH -I/usr/local/lib/python3.7/dist-packages/torch/include/THC -I/usr/local/cuda/include -I/usr/include/python3.7m -c /content/OneNet/OneNet/detectron2/layers/csrc/ROIAlign/ROIAlign_cpu.cpp -o build/temp.linux-x86_64-3.7/content/OneNet/OneNet/detectron2/layers/csrc/ROIAlign/ROIAlign_cpu.o -DTORCH_API_INCLUDE_EXTENSION_H -DPYBIND11_COMPILER_TYPE=\"_gcc\" -DPYBIND11_STDLIB=\"_libstdcpp\" -DPYBIND11_BUILD_ABI=\"_cxxabi1011\" -DTORCH_EXTENSION_NAME=_C -D_GLIBCXX_USE_CXX11_ABI=0 -std=c++14\n",
            "x86_64-linux-gnu-gcc -pthread -Wno-unused-result -Wsign-compare -DNDEBUG -g -fwrapv -O2 -Wall -g -fdebug-prefix-map=/build/python3.7-OGiuun/python3.7-3.7.10=. -fstack-protector-strong -Wformat -Werror=format-security -g -fdebug-prefix-map=/build/python3.7-OGiuun/python3.7-3.7.10=. -fstack-protector-strong -Wformat -Werror=format-security -Wdate-time -D_FORTIFY_SOURCE=2 -fPIC -DWITH_CUDA -I/content/OneNet/OneNet/detectron2/layers/csrc -I/usr/local/lib/python3.7/dist-packages/torch/include -I/usr/local/lib/python3.7/dist-packages/torch/include/torch/csrc/api/include -I/usr/local/lib/python3.7/dist-packages/torch/include/TH -I/usr/local/lib/python3.7/dist-packages/torch/include/THC -I/usr/local/cuda/include -I/usr/include/python3.7m -c /content/OneNet/OneNet/detectron2/layers/csrc/cocoeval/cocoeval.cpp -o build/temp.linux-x86_64-3.7/content/OneNet/OneNet/detectron2/layers/csrc/cocoeval/cocoeval.o -DTORCH_API_INCLUDE_EXTENSION_H -DPYBIND11_COMPILER_TYPE=\"_gcc\" -DPYBIND11_STDLIB=\"_libstdcpp\" -DPYBIND11_BUILD_ABI=\"_cxxabi1011\" -DTORCH_EXTENSION_NAME=_C -D_GLIBCXX_USE_CXX11_ABI=0 -std=c++14\n",
            "x86_64-linux-gnu-gcc -pthread -Wno-unused-result -Wsign-compare -DNDEBUG -g -fwrapv -O2 -Wall -g -fdebug-prefix-map=/build/python3.7-OGiuun/python3.7-3.7.10=. -fstack-protector-strong -Wformat -Werror=format-security -g -fdebug-prefix-map=/build/python3.7-OGiuun/python3.7-3.7.10=. -fstack-protector-strong -Wformat -Werror=format-security -Wdate-time -D_FORTIFY_SOURCE=2 -fPIC -DWITH_CUDA -I/content/OneNet/OneNet/detectron2/layers/csrc -I/usr/local/lib/python3.7/dist-packages/torch/include -I/usr/local/lib/python3.7/dist-packages/torch/include/torch/csrc/api/include -I/usr/local/lib/python3.7/dist-packages/torch/include/TH -I/usr/local/lib/python3.7/dist-packages/torch/include/THC -I/usr/local/cuda/include -I/usr/include/python3.7m -c /content/OneNet/OneNet/detectron2/layers/csrc/nms_rotated/nms_rotated_cpu.cpp -o build/temp.linux-x86_64-3.7/content/OneNet/OneNet/detectron2/layers/csrc/nms_rotated/nms_rotated_cpu.o -DTORCH_API_INCLUDE_EXTENSION_H -DPYBIND11_COMPILER_TYPE=\"_gcc\" -DPYBIND11_STDLIB=\"_libstdcpp\" -DPYBIND11_BUILD_ABI=\"_cxxabi1011\" -DTORCH_EXTENSION_NAME=_C -D_GLIBCXX_USE_CXX11_ABI=0 -std=c++14\n",
            "interrupted\n",
            "^C\n"
          ],
          "name": "stdout"
        }
      ]
    },
    {
      "cell_type": "markdown",
      "metadata": {
        "id": "9bCfjv-rohqR"
      },
      "source": [
        "## Craete the datasets directory and 'cd' into it."
      ]
    },
    {
      "cell_type": "code",
      "metadata": {
        "id": "6221e8EKX3Eu"
      },
      "source": [
        "! mkdir -p datasets/coco/"
      ],
      "execution_count": 3,
      "outputs": []
    },
    {
      "cell_type": "code",
      "metadata": {
        "colab": {
          "base_uri": "https://localhost:8080/"
        },
        "id": "smJmyTftYAyF",
        "outputId": "61549ce2-14c4-43cc-b185-5ec451c9210f"
      },
      "source": [
        "%cd datasets/coco/"
      ],
      "execution_count": 4,
      "outputs": [
        {
          "output_type": "stream",
          "text": [
            "/content/OneNet/datasets/coco\n"
          ],
          "name": "stdout"
        }
      ]
    },
    {
      "cell_type": "markdown",
      "metadata": {
        "id": "_pOPSbWPomiK"
      },
      "source": [
        "## Download the data from coco and unzip it."
      ]
    },
    {
      "cell_type": "code",
      "metadata": {
        "colab": {
          "base_uri": "https://localhost:8080/"
        },
        "id": "ZQqA7twYXWq_",
        "outputId": "aa4a9715-f50f-4f85-82fa-a0d9fc0db5a3"
      },
      "source": [
        "! wget http://images.cocodataset.org/zips/test2017.zip"
      ],
      "execution_count": null,
      "outputs": [
        {
          "output_type": "stream",
          "text": [
            "--2021-06-09 10:55:41--  http://images.cocodataset.org/zips/test2017.zip\n",
            "Resolving images.cocodataset.org (images.cocodataset.org)... 52.216.243.172\n",
            "Connecting to images.cocodataset.org (images.cocodataset.org)|52.216.243.172|:80... connected.\n",
            "HTTP request sent, awaiting response... 200 OK\n",
            "Length: 6646970404 (6.2G) [application/zip]\n",
            "Saving to: ‘test2017.zip’\n",
            "\n",
            "test2017.zip          4%[                    ] 276.53M  41.2MB/s    eta 2m 41s ^C\n"
          ],
          "name": "stdout"
        }
      ]
    },
    {
      "cell_type": "code",
      "metadata": {
        "id": "cJM0luAEYJlG",
        "colab": {
          "base_uri": "https://localhost:8080/"
        },
        "outputId": "2adf2526-7399-4889-a7f0-c0499849de05"
      },
      "source": [
        "! unzip test2017.zip"
      ],
      "execution_count": null,
      "outputs": [
        {
          "output_type": "stream",
          "text": [
            "Archive:  test2017.zip\n",
            "  End-of-central-directory signature not found.  Either this file is not\n",
            "  a zipfile, or it constitutes one disk of a multi-part archive.  In the\n",
            "  latter case the central directory and zipfile comment will be found on\n",
            "  the last disk(s) of this archive.\n",
            "unzip:  cannot find zipfile directory in one of test2017.zip or\n",
            "        test2017.zip.zip, and cannot find test2017.zip.ZIP, period.\n"
          ],
          "name": "stdout"
        }
      ]
    },
    {
      "cell_type": "markdown",
      "metadata": {
        "id": "NvGBX0p-ou8p"
      },
      "source": [
        "## Copy the trained model from my google drive to colab"
      ]
    },
    {
      "cell_type": "code",
      "metadata": {
        "colab": {
          "base_uri": "https://localhost:8080/"
        },
        "id": "2vR_oL9WalaF",
        "outputId": "7b8980b8-628c-4f17-9ea1-284a5d42c317"
      },
      "source": [
        "%cd ../../"
      ],
      "execution_count": 5,
      "outputs": [
        {
          "output_type": "stream",
          "text": [
            "/content/OneNet\n"
          ],
          "name": "stdout"
        }
      ]
    },
    {
      "cell_type": "code",
      "metadata": {
        "colab": {
          "base_uri": "https://localhost:8080/"
        },
        "id": "F2PsGsEJjnFh",
        "outputId": "0116f66c-d2d9-4523-9006-590cb9918064"
      },
      "source": [
        "from google.colab import drive\n",
        "drive.mount('/content/drive')"
      ],
      "execution_count": 6,
      "outputs": [
        {
          "output_type": "stream",
          "text": [
            "Mounted at /content/drive\n"
          ],
          "name": "stdout"
        }
      ]
    },
    {
      "cell_type": "code",
      "metadata": {
        "id": "_AfN4K0Bm4G9"
      },
      "source": [
        "! cp /content/drive/MyDrive/School/DeepLearning/onenet_r18dcn.pth /content/OneNet/configs/"
      ],
      "execution_count": 7,
      "outputs": []
    },
    {
      "cell_type": "markdown",
      "metadata": {
        "id": "eD_hvCk4o8zA"
      },
      "source": [
        "# Evaluate"
      ]
    },
    {
      "cell_type": "code",
      "metadata": {
        "colab": {
          "base_uri": "https://localhost:8080/"
        },
        "id": "h44hnnbESrWK",
        "outputId": "a3d236cb-9c63-438a-bb12-60e35c910e7f"
      },
      "source": [
        "! python projects/OneNet/train_net.py --num-gpus 1 \\\n",
        "    --config-file projects/OneNet/configs/onenet.res18.dcn.yaml \\\n",
        "    --eval-only MODEL.WEIGHTS /content/OneNet/configs/onenet_r18dcn.pth"
      ],
      "execution_count": null,
      "outputs": [
        {
          "output_type": "stream",
          "text": [
            "Command Line Args: Namespace(config_file='projects/OneNet/configs/onenet.res18.dcn.yaml', dist_url='tcp://127.0.0.1:49152', eval_only=True, machine_rank=0, num_gpus=1, num_machines=1, opts=['MODEL.WEIGHTS', '/content/OneNet/configs/onenet_r18dcn.pth'], resume=False)\n",
            "\u001b[32m[06/09 10:55:51 detectron2]: \u001b[0mRank of current process: 0. World size: 1\n",
            "\u001b[32m[06/09 10:55:52 detectron2]: \u001b[0mEnvironment info:\n",
            "----------------------  ---------------------------------------------------------------\n",
            "sys.platform            linux\n",
            "Python                  3.7.10 (default, May  3 2021, 02:48:31) [GCC 7.5.0]\n",
            "numpy                   1.19.5\n",
            "detectron2              0.3 @/content/OneNet/detectron2\n",
            "Compiler                GCC 7.5\n",
            "CUDA compiler           CUDA 11.0\n",
            "detectron2 arch flags   7.5\n",
            "DETECTRON2_ENV_MODULE   <not set>\n",
            "PyTorch                 1.7.1+cu110 @/usr/local/lib/python3.7/dist-packages/torch\n",
            "PyTorch debug build     False\n",
            "GPU available           True\n",
            "GPU 0                   Tesla T4 (arch=7.5)\n",
            "CUDA_HOME               /usr/local/cuda\n",
            "Pillow                  7.1.2\n",
            "torchvision             0.8.2+cu110 @/usr/local/lib/python3.7/dist-packages/torchvision\n",
            "torchvision arch flags  3.5, 5.0, 6.0, 7.0, 7.5, 8.0\n",
            "fvcore                  0.1.5.post20210609\n",
            "cv2                     4.1.2\n",
            "----------------------  ---------------------------------------------------------------\n",
            "PyTorch built with:\n",
            "  - GCC 7.3\n",
            "  - C++ Version: 201402\n",
            "  - Intel(R) Math Kernel Library Version 2020.0.0 Product Build 20191122 for Intel(R) 64 architecture applications\n",
            "  - Intel(R) MKL-DNN v1.6.0 (Git Hash 5ef631a030a6f73131c77892041042805a06064f)\n",
            "  - OpenMP 201511 (a.k.a. OpenMP 4.5)\n",
            "  - NNPACK is enabled\n",
            "  - CPU capability usage: AVX2\n",
            "  - CUDA Runtime 11.0\n",
            "  - NVCC architecture flags: -gencode;arch=compute_37,code=sm_37;-gencode;arch=compute_50,code=sm_50;-gencode;arch=compute_60,code=sm_60;-gencode;arch=compute_70,code=sm_70;-gencode;arch=compute_75,code=sm_75;-gencode;arch=compute_80,code=sm_80\n",
            "  - CuDNN 8.0.5\n",
            "  - Magma 2.5.2\n",
            "  - Build settings: BLAS=MKL, BUILD_TYPE=Release, CXX_FLAGS= -Wno-deprecated -fvisibility-inlines-hidden -DUSE_PTHREADPOOL -fopenmp -DNDEBUG -DUSE_FBGEMM -DUSE_QNNPACK -DUSE_PYTORCH_QNNPACK -DUSE_XNNPACK -DUSE_VULKAN_WRAPPER -O2 -fPIC -Wno-narrowing -Wall -Wextra -Werror=return-type -Wno-missing-field-initializers -Wno-type-limits -Wno-array-bounds -Wno-unknown-pragmas -Wno-sign-compare -Wno-unused-parameter -Wno-unused-variable -Wno-unused-function -Wno-unused-result -Wno-unused-local-typedefs -Wno-strict-overflow -Wno-strict-aliasing -Wno-error=deprecated-declarations -Wno-stringop-overflow -Wno-psabi -Wno-error=pedantic -Wno-error=redundant-decls -Wno-error=old-style-cast -fdiagnostics-color=always -faligned-new -Wno-unused-but-set-variable -Wno-maybe-uninitialized -fno-math-errno -fno-trapping-math -Werror=format -Wno-stringop-overflow, PERF_WITH_AVX=1, PERF_WITH_AVX2=1, PERF_WITH_AVX512=1, USE_CUDA=ON, USE_EXCEPTION_PTR=1, USE_GFLAGS=OFF, USE_GLOG=OFF, USE_MKL=ON, USE_MKLDNN=ON, USE_MPI=OFF, USE_NCCL=ON, USE_NNPACK=ON, USE_OPENMP=ON, \n",
            "\n",
            "\u001b[32m[06/09 10:55:52 detectron2]: \u001b[0mCommand line arguments: Namespace(config_file='projects/OneNet/configs/onenet.res18.dcn.yaml', dist_url='tcp://127.0.0.1:49152', eval_only=True, machine_rank=0, num_gpus=1, num_machines=1, opts=['MODEL.WEIGHTS', '/content/OneNet/configs/onenet_r18dcn.pth'], resume=False)\n",
            "\u001b[32m[06/09 10:55:52 detectron2]: \u001b[0mContents of args.config_file=projects/OneNet/configs/onenet.res18.dcn.yaml:\n",
            "_BASE_: \"Base-OneNet.yaml\"\n",
            "MODEL:\n",
            "  WEIGHTS: \"torchvision-R-18.pkl\"\n",
            "  BACKBONE:\n",
            "      FREEZE_AT: 0\n",
            "  RESNETS:\n",
            "    NORM: \"BN\"\n",
            "    DEPTH: 18\n",
            "    STRIDE_IN_1X1: False\n",
            "    RES2_OUT_CHANNELS: 64\n",
            "  OneNet:\n",
            "    DCN: True\n",
            "    NUM_CLASSES: 80\n",
            "    DECONV_CHANNEL: (512, 256, 128, 64)\n",
            "DATASETS:\n",
            "  TRAIN: (\"coco_2017_train\",)\n",
            "  TEST:  (\"coco_2017_val\",)\n",
            "SOLVER:\n",
            "  IMS_PER_BATCH: 64\n",
            "  STEPS: (210000, 250000)\n",
            "  MAX_ITER: 270000\n",
            "INPUT:\n",
            "  CROP:\n",
            "    ENABLED: True\n",
            "  FORMAT: \"RGB\"\n",
            "OUTPUT_DIR: 'output_onenet_r18dcn'\n",
            "\n",
            "\u001b[32m[06/09 10:55:52 detectron2]: \u001b[0mRunning with full config:\n",
            "CUDNN_BENCHMARK: False\n",
            "DATALOADER:\n",
            "  ASPECT_RATIO_GROUPING: True\n",
            "  FILTER_EMPTY_ANNOTATIONS: False\n",
            "  NUM_WORKERS: 4\n",
            "  REPEAT_THRESHOLD: 0.0\n",
            "  SAMPLER_TRAIN: TrainingSampler\n",
            "DATASETS:\n",
            "  PRECOMPUTED_PROPOSAL_TOPK_TEST: 1000\n",
            "  PRECOMPUTED_PROPOSAL_TOPK_TRAIN: 2000\n",
            "  PROPOSAL_FILES_TEST: ()\n",
            "  PROPOSAL_FILES_TRAIN: ()\n",
            "  TEST: ('coco_2017_val',)\n",
            "  TRAIN: ('coco_2017_train',)\n",
            "GLOBAL:\n",
            "  HACK: 1.0\n",
            "INPUT:\n",
            "  CROP:\n",
            "    ENABLED: True\n",
            "    SIZE: [384, 600]\n",
            "    TYPE: absolute_range\n",
            "  FORMAT: RGB\n",
            "  MASK_FORMAT: polygon\n",
            "  MAX_SIZE_TEST: 853\n",
            "  MAX_SIZE_TRAIN: 853\n",
            "  MIN_SIZE_TEST: 512\n",
            "  MIN_SIZE_TRAIN: (416, 448, 480, 512)\n",
            "  MIN_SIZE_TRAIN_SAMPLING: choice\n",
            "  RANDOM_FLIP: horizontal\n",
            "MODEL:\n",
            "  ANCHOR_GENERATOR:\n",
            "    ANGLES: [[-90, 0, 90]]\n",
            "    ASPECT_RATIOS: [[0.5, 1.0, 2.0]]\n",
            "    NAME: DefaultAnchorGenerator\n",
            "    OFFSET: 0.0\n",
            "    SIZES: [[32, 64, 128, 256, 512]]\n",
            "  BACKBONE:\n",
            "    FREEZE_AT: 0\n",
            "    NAME: build_resnet_backbone\n",
            "  DEVICE: cuda\n",
            "  FPN:\n",
            "    FUSE_TYPE: sum\n",
            "    IN_FEATURES: []\n",
            "    NORM: \n",
            "    OUT_CHANNELS: 256\n",
            "  KEYPOINT_ON: False\n",
            "  LOAD_PROPOSALS: False\n",
            "  MASK_ON: False\n",
            "  META_ARCHITECTURE: OneNet\n",
            "  OneNet:\n",
            "    ACTIVATION: relu\n",
            "    ALPHA: 0.25\n",
            "    CLASS_WEIGHT: 2.0\n",
            "    DCN: True\n",
            "    DECONV_CHANNEL: [512, 256, 128, 64]\n",
            "    DECONV_KERNEL: [4, 4, 4]\n",
            "    GAMMA: 2.0\n",
            "    GIOU_WEIGHT: 2.0\n",
            "    IN_FEATURES: ['res2', 'res3', 'res4', 'res5']\n",
            "    L1_WEIGHT: 5.0\n",
            "    MODULATE_DEFORM: True\n",
            "    NMS: False\n",
            "    NUM_CLASSES: 80\n",
            "    PRIOR_PROB: 0.01\n",
            "  PANOPTIC_FPN:\n",
            "    COMBINE:\n",
            "      ENABLED: True\n",
            "      INSTANCES_CONFIDENCE_THRESH: 0.5\n",
            "      OVERLAP_THRESH: 0.5\n",
            "      STUFF_AREA_LIMIT: 4096\n",
            "    INSTANCE_LOSS_WEIGHT: 1.0\n",
            "  PIXEL_MEAN: [123.675, 116.28, 103.53]\n",
            "  PIXEL_STD: [58.395, 57.12, 57.375]\n",
            "  PROPOSAL_GENERATOR:\n",
            "    MIN_SIZE: 0\n",
            "    NAME: RPN\n",
            "  RESNETS:\n",
            "    DEFORM_MODULATED: False\n",
            "    DEFORM_NUM_GROUPS: 1\n",
            "    DEFORM_ON_PER_STAGE: [False, False, False, False]\n",
            "    DEPTH: 18\n",
            "    NORM: BN\n",
            "    NUM_GROUPS: 1\n",
            "    OUT_FEATURES: ['res2', 'res3', 'res4', 'res5']\n",
            "    RES2_OUT_CHANNELS: 64\n",
            "    RES5_DILATION: 1\n",
            "    STEM_OUT_CHANNELS: 64\n",
            "    STRIDE_IN_1X1: False\n",
            "    WIDTH_PER_GROUP: 64\n",
            "  RETINANET:\n",
            "    BBOX_REG_LOSS_TYPE: smooth_l1\n",
            "    BBOX_REG_WEIGHTS: (1.0, 1.0, 1.0, 1.0)\n",
            "    FOCAL_LOSS_ALPHA: 0.25\n",
            "    FOCAL_LOSS_GAMMA: 2.0\n",
            "    IN_FEATURES: ['p3', 'p4', 'p5', 'p6', 'p7']\n",
            "    IOU_LABELS: [0, -1, 1]\n",
            "    IOU_THRESHOLDS: [0.4, 0.5]\n",
            "    NMS_THRESH_TEST: 0.5\n",
            "    NORM: \n",
            "    NUM_CLASSES: 80\n",
            "    NUM_CONVS: 4\n",
            "    PRIOR_PROB: 0.01\n",
            "    SCORE_THRESH_TEST: 0.05\n",
            "    SMOOTH_L1_LOSS_BETA: 0.1\n",
            "    TOPK_CANDIDATES_TEST: 1000\n",
            "  ROI_BOX_CASCADE_HEAD:\n",
            "    BBOX_REG_WEIGHTS: ((10.0, 10.0, 5.0, 5.0), (20.0, 20.0, 10.0, 10.0), (30.0, 30.0, 15.0, 15.0))\n",
            "    IOUS: (0.5, 0.6, 0.7)\n",
            "  ROI_BOX_HEAD:\n",
            "    BBOX_REG_LOSS_TYPE: smooth_l1\n",
            "    BBOX_REG_LOSS_WEIGHT: 1.0\n",
            "    BBOX_REG_WEIGHTS: (10.0, 10.0, 5.0, 5.0)\n",
            "    CLS_AGNOSTIC_BBOX_REG: False\n",
            "    CONV_DIM: 256\n",
            "    FC_DIM: 1024\n",
            "    NAME: \n",
            "    NORM: \n",
            "    NUM_CONV: 0\n",
            "    NUM_FC: 0\n",
            "    POOLER_RESOLUTION: 14\n",
            "    POOLER_SAMPLING_RATIO: 0\n",
            "    POOLER_TYPE: ROIAlignV2\n",
            "    SMOOTH_L1_BETA: 0.0\n",
            "    TRAIN_ON_PRED_BOXES: False\n",
            "  ROI_HEADS:\n",
            "    BATCH_SIZE_PER_IMAGE: 512\n",
            "    IN_FEATURES: ['res4']\n",
            "    IOU_LABELS: [0, 1]\n",
            "    IOU_THRESHOLDS: [0.5]\n",
            "    NAME: Res5ROIHeads\n",
            "    NMS_THRESH_TEST: 0.5\n",
            "    NUM_CLASSES: 80\n",
            "    POSITIVE_FRACTION: 0.25\n",
            "    PROPOSAL_APPEND_GT: True\n",
            "    SCORE_THRESH_TEST: 0.05\n",
            "  ROI_KEYPOINT_HEAD:\n",
            "    CONV_DIMS: (512, 512, 512, 512, 512, 512, 512, 512)\n",
            "    LOSS_WEIGHT: 1.0\n",
            "    MIN_KEYPOINTS_PER_IMAGE: 1\n",
            "    NAME: KRCNNConvDeconvUpsampleHead\n",
            "    NORMALIZE_LOSS_BY_VISIBLE_KEYPOINTS: True\n",
            "    NUM_KEYPOINTS: 17\n",
            "    POOLER_RESOLUTION: 14\n",
            "    POOLER_SAMPLING_RATIO: 0\n",
            "    POOLER_TYPE: ROIAlignV2\n",
            "  ROI_MASK_HEAD:\n",
            "    CLS_AGNOSTIC_MASK: False\n",
            "    CONV_DIM: 256\n",
            "    NAME: MaskRCNNConvUpsampleHead\n",
            "    NORM: \n",
            "    NUM_CONV: 0\n",
            "    POOLER_RESOLUTION: 14\n",
            "    POOLER_SAMPLING_RATIO: 0\n",
            "    POOLER_TYPE: ROIAlignV2\n",
            "  RPN:\n",
            "    BATCH_SIZE_PER_IMAGE: 256\n",
            "    BBOX_REG_LOSS_TYPE: smooth_l1\n",
            "    BBOX_REG_LOSS_WEIGHT: 1.0\n",
            "    BBOX_REG_WEIGHTS: (1.0, 1.0, 1.0, 1.0)\n",
            "    BOUNDARY_THRESH: -1\n",
            "    HEAD_NAME: StandardRPNHead\n",
            "    IN_FEATURES: ['res4']\n",
            "    IOU_LABELS: [0, -1, 1]\n",
            "    IOU_THRESHOLDS: [0.3, 0.7]\n",
            "    LOSS_WEIGHT: 1.0\n",
            "    NMS_THRESH: 0.7\n",
            "    POSITIVE_FRACTION: 0.5\n",
            "    POST_NMS_TOPK_TEST: 1000\n",
            "    POST_NMS_TOPK_TRAIN: 2000\n",
            "    PRE_NMS_TOPK_TEST: 6000\n",
            "    PRE_NMS_TOPK_TRAIN: 12000\n",
            "    SMOOTH_L1_BETA: 0.0\n",
            "  SEM_SEG_HEAD:\n",
            "    COMMON_STRIDE: 4\n",
            "    CONVS_DIM: 128\n",
            "    IGNORE_VALUE: 255\n",
            "    IN_FEATURES: ['p2', 'p3', 'p4', 'p5']\n",
            "    LOSS_WEIGHT: 1.0\n",
            "    NAME: SemSegFPNHead\n",
            "    NORM: GN\n",
            "    NUM_CLASSES: 54\n",
            "  WEIGHTS: /content/OneNet/configs/onenet_r18dcn.pth\n",
            "OUTPUT_DIR: output_onenet_r18dcn\n",
            "SEED: 40244023\n",
            "SOLVER:\n",
            "  AMP:\n",
            "    ENABLED: False\n",
            "  BACKBONE_MULTIPLIER: 1.0\n",
            "  BASE_LR: 5e-05\n",
            "  BIAS_LR_FACTOR: 1.0\n",
            "  CHECKPOINT_PERIOD: 5000\n",
            "  CLIP_GRADIENTS:\n",
            "    CLIP_TYPE: full_model\n",
            "    CLIP_VALUE: 1.0\n",
            "    ENABLED: False\n",
            "    NORM_TYPE: 2.0\n",
            "  GAMMA: 0.1\n",
            "  IMS_PER_BATCH: 64\n",
            "  LR_SCHEDULER_NAME: WarmupMultiStepLR\n",
            "  MAX_ITER: 270000\n",
            "  MOMENTUM: 0.9\n",
            "  NESTEROV: False\n",
            "  OPTIMIZER: ADAMW\n",
            "  REFERENCE_WORLD_SIZE: 0\n",
            "  STEPS: (210000, 250000)\n",
            "  WARMUP_FACTOR: 0.01\n",
            "  WARMUP_ITERS: 1000\n",
            "  WARMUP_METHOD: linear\n",
            "  WEIGHT_DECAY: 0.0001\n",
            "  WEIGHT_DECAY_BIAS: 0.0001\n",
            "  WEIGHT_DECAY_NORM: 0.0\n",
            "TEST:\n",
            "  AUG:\n",
            "    ENABLED: False\n",
            "    FLIP: True\n",
            "    MAX_SIZE: 4000\n",
            "    MIN_SIZES: (400, 500, 600, 700, 800, 900, 1000, 1100, 1200)\n",
            "  DETECTIONS_PER_IMAGE: 100\n",
            "  EVAL_PERIOD: 7330\n",
            "  EXPECTED_RESULTS: []\n",
            "  KEYPOINT_OKS_SIGMAS: []\n",
            "  PRECISE_BN:\n",
            "    ENABLED: False\n",
            "    NUM_ITER: 200\n",
            "VERSION: 2\n",
            "VIS_PERIOD: 0\n",
            "\u001b[32m[06/09 10:55:52 detectron2]: \u001b[0mFull config saved to output_onenet_r18dcn/config.yaml\n",
            "\u001b[32m[06/09 10:55:56 d2.engine.defaults]: \u001b[0mModel:\n",
            "OneNet(\n",
            "  (backbone): ResNet(\n",
            "    (stem): BasicStem(\n",
            "      (conv1): Conv2d(\n",
            "        3, 64, kernel_size=(7, 7), stride=(2, 2), padding=(3, 3), bias=False\n",
            "        (norm): BatchNorm2d(64, eps=1e-05, momentum=0.1, affine=True, track_running_stats=True)\n",
            "      )\n",
            "    )\n",
            "    (res2): Sequential(\n",
            "      (0): BasicBlock(\n",
            "        (conv1): Conv2d(\n",
            "          64, 64, kernel_size=(3, 3), stride=(1, 1), padding=(1, 1), bias=False\n",
            "          (norm): BatchNorm2d(64, eps=1e-05, momentum=0.1, affine=True, track_running_stats=True)\n",
            "        )\n",
            "        (conv2): Conv2d(\n",
            "          64, 64, kernel_size=(3, 3), stride=(1, 1), padding=(1, 1), bias=False\n",
            "          (norm): BatchNorm2d(64, eps=1e-05, momentum=0.1, affine=True, track_running_stats=True)\n",
            "        )\n",
            "      )\n",
            "      (1): BasicBlock(\n",
            "        (conv1): Conv2d(\n",
            "          64, 64, kernel_size=(3, 3), stride=(1, 1), padding=(1, 1), bias=False\n",
            "          (norm): BatchNorm2d(64, eps=1e-05, momentum=0.1, affine=True, track_running_stats=True)\n",
            "        )\n",
            "        (conv2): Conv2d(\n",
            "          64, 64, kernel_size=(3, 3), stride=(1, 1), padding=(1, 1), bias=False\n",
            "          (norm): BatchNorm2d(64, eps=1e-05, momentum=0.1, affine=True, track_running_stats=True)\n",
            "        )\n",
            "      )\n",
            "    )\n",
            "    (res3): Sequential(\n",
            "      (0): BasicBlock(\n",
            "        (shortcut): Conv2d(\n",
            "          64, 128, kernel_size=(1, 1), stride=(2, 2), bias=False\n",
            "          (norm): BatchNorm2d(128, eps=1e-05, momentum=0.1, affine=True, track_running_stats=True)\n",
            "        )\n",
            "        (conv1): Conv2d(\n",
            "          64, 128, kernel_size=(3, 3), stride=(2, 2), padding=(1, 1), bias=False\n",
            "          (norm): BatchNorm2d(128, eps=1e-05, momentum=0.1, affine=True, track_running_stats=True)\n",
            "        )\n",
            "        (conv2): Conv2d(\n",
            "          128, 128, kernel_size=(3, 3), stride=(1, 1), padding=(1, 1), bias=False\n",
            "          (norm): BatchNorm2d(128, eps=1e-05, momentum=0.1, affine=True, track_running_stats=True)\n",
            "        )\n",
            "      )\n",
            "      (1): BasicBlock(\n",
            "        (conv1): Conv2d(\n",
            "          128, 128, kernel_size=(3, 3), stride=(1, 1), padding=(1, 1), bias=False\n",
            "          (norm): BatchNorm2d(128, eps=1e-05, momentum=0.1, affine=True, track_running_stats=True)\n",
            "        )\n",
            "        (conv2): Conv2d(\n",
            "          128, 128, kernel_size=(3, 3), stride=(1, 1), padding=(1, 1), bias=False\n",
            "          (norm): BatchNorm2d(128, eps=1e-05, momentum=0.1, affine=True, track_running_stats=True)\n",
            "        )\n",
            "      )\n",
            "    )\n",
            "    (res4): Sequential(\n",
            "      (0): BasicBlock(\n",
            "        (shortcut): Conv2d(\n",
            "          128, 256, kernel_size=(1, 1), stride=(2, 2), bias=False\n",
            "          (norm): BatchNorm2d(256, eps=1e-05, momentum=0.1, affine=True, track_running_stats=True)\n",
            "        )\n",
            "        (conv1): Conv2d(\n",
            "          128, 256, kernel_size=(3, 3), stride=(2, 2), padding=(1, 1), bias=False\n",
            "          (norm): BatchNorm2d(256, eps=1e-05, momentum=0.1, affine=True, track_running_stats=True)\n",
            "        )\n",
            "        (conv2): Conv2d(\n",
            "          256, 256, kernel_size=(3, 3), stride=(1, 1), padding=(1, 1), bias=False\n",
            "          (norm): BatchNorm2d(256, eps=1e-05, momentum=0.1, affine=True, track_running_stats=True)\n",
            "        )\n",
            "      )\n",
            "      (1): BasicBlock(\n",
            "        (conv1): Conv2d(\n",
            "          256, 256, kernel_size=(3, 3), stride=(1, 1), padding=(1, 1), bias=False\n",
            "          (norm): BatchNorm2d(256, eps=1e-05, momentum=0.1, affine=True, track_running_stats=True)\n",
            "        )\n",
            "        (conv2): Conv2d(\n",
            "          256, 256, kernel_size=(3, 3), stride=(1, 1), padding=(1, 1), bias=False\n",
            "          (norm): BatchNorm2d(256, eps=1e-05, momentum=0.1, affine=True, track_running_stats=True)\n",
            "        )\n",
            "      )\n",
            "    )\n",
            "    (res5): Sequential(\n",
            "      (0): BasicBlock(\n",
            "        (shortcut): Conv2d(\n",
            "          256, 512, kernel_size=(1, 1), stride=(2, 2), bias=False\n",
            "          (norm): BatchNorm2d(512, eps=1e-05, momentum=0.1, affine=True, track_running_stats=True)\n",
            "        )\n",
            "        (conv1): Conv2d(\n",
            "          256, 512, kernel_size=(3, 3), stride=(2, 2), padding=(1, 1), bias=False\n",
            "          (norm): BatchNorm2d(512, eps=1e-05, momentum=0.1, affine=True, track_running_stats=True)\n",
            "        )\n",
            "        (conv2): Conv2d(\n",
            "          512, 512, kernel_size=(3, 3), stride=(1, 1), padding=(1, 1), bias=False\n",
            "          (norm): BatchNorm2d(512, eps=1e-05, momentum=0.1, affine=True, track_running_stats=True)\n",
            "        )\n",
            "      )\n",
            "      (1): BasicBlock(\n",
            "        (conv1): Conv2d(\n",
            "          512, 512, kernel_size=(3, 3), stride=(1, 1), padding=(1, 1), bias=False\n",
            "          (norm): BatchNorm2d(512, eps=1e-05, momentum=0.1, affine=True, track_running_stats=True)\n",
            "        )\n",
            "        (conv2): Conv2d(\n",
            "          512, 512, kernel_size=(3, 3), stride=(1, 1), padding=(1, 1), bias=False\n",
            "          (norm): BatchNorm2d(512, eps=1e-05, momentum=0.1, affine=True, track_running_stats=True)\n",
            "        )\n",
            "      )\n",
            "    )\n",
            "  )\n",
            "  (head): Head(\n",
            "    (deconv): CenternetDeconv(\n",
            "      (deconv1): DCNDeconvLayer(\n",
            "        (dcn_offset): Conv2d(512, 27, kernel_size=(3, 3), stride=(1, 1), padding=(1, 1))\n",
            "        (dcn): ModulatedDeformConv(in_channels=512, out_channels=256, kernel_size=(3, 3), stride=1, padding=1, dilation=1, groups=1, deformable_groups=1, bias=False)\n",
            "        (dcn_bn): BatchNorm2d(256, eps=1e-05, momentum=0.1, affine=True, track_running_stats=True)\n",
            "        (up_sample): ConvTranspose2d(256, 256, kernel_size=(4, 4), stride=(2, 2), padding=(1, 1), bias=False)\n",
            "        (up_bn): BatchNorm2d(256, eps=1e-05, momentum=0.1, affine=True, track_running_stats=True)\n",
            "        (relu): ReLU()\n",
            "      )\n",
            "      (lateral_conv1): Conv2d(256, 256, kernel_size=(1, 1), stride=(1, 1))\n",
            "      (deconv2): DCNDeconvLayer(\n",
            "        (dcn_offset): Conv2d(256, 27, kernel_size=(3, 3), stride=(1, 1), padding=(1, 1))\n",
            "        (dcn): ModulatedDeformConv(in_channels=256, out_channels=128, kernel_size=(3, 3), stride=1, padding=1, dilation=1, groups=1, deformable_groups=1, bias=False)\n",
            "        (dcn_bn): BatchNorm2d(128, eps=1e-05, momentum=0.1, affine=True, track_running_stats=True)\n",
            "        (up_sample): ConvTranspose2d(128, 128, kernel_size=(4, 4), stride=(2, 2), padding=(1, 1), bias=False)\n",
            "        (up_bn): BatchNorm2d(128, eps=1e-05, momentum=0.1, affine=True, track_running_stats=True)\n",
            "        (relu): ReLU()\n",
            "      )\n",
            "      (lateral_conv2): Conv2d(128, 128, kernel_size=(1, 1), stride=(1, 1))\n",
            "      (deconv3): DCNDeconvLayer(\n",
            "        (dcn_offset): Conv2d(128, 27, kernel_size=(3, 3), stride=(1, 1), padding=(1, 1))\n",
            "        (dcn): ModulatedDeformConv(in_channels=128, out_channels=64, kernel_size=(3, 3), stride=1, padding=1, dilation=1, groups=1, deformable_groups=1, bias=False)\n",
            "        (dcn_bn): BatchNorm2d(64, eps=1e-05, momentum=0.1, affine=True, track_running_stats=True)\n",
            "        (up_sample): ConvTranspose2d(64, 64, kernel_size=(4, 4), stride=(2, 2), padding=(1, 1), bias=False)\n",
            "        (up_bn): BatchNorm2d(64, eps=1e-05, momentum=0.1, affine=True, track_running_stats=True)\n",
            "        (relu): ReLU()\n",
            "      )\n",
            "      (lateral_conv3): Conv2d(64, 64, kernel_size=(1, 1), stride=(1, 1))\n",
            "      (output_conv): Conv2d(64, 64, kernel_size=(3, 3), stride=(1, 1), padding=(1, 1))\n",
            "    )\n",
            "    (feat1): Conv2d(64, 64, kernel_size=(3, 3), stride=(1, 1), padding=(1, 1))\n",
            "    (cls_score): Conv2d(64, 80, kernel_size=(3, 3), stride=(1, 1), padding=(1, 1))\n",
            "    (ltrb_pred): Conv2d(64, 4, kernel_size=(3, 3), stride=(1, 1), padding=(1, 1))\n",
            "  )\n",
            "  (criterion): SetCriterion(\n",
            "    (matcher): MinCostMatcher()\n",
            "  )\n",
            ")\n",
            "\u001b[32m[06/09 10:55:56 fvcore.common.checkpoint]: \u001b[0m[Checkpointer] Loading from /content/OneNet/configs/onenet_r18dcn.pth ...\n",
            "Traceback (most recent call last):\n",
            "  File \"projects/OneNet/train_net.py\", line 140, in <module>\n",
            "    args=(args,),\n",
            "  File \"/content/OneNet/detectron2/engine/launch.py\", line 62, in launch\n",
            "    main_func(*args)\n",
            "  File \"projects/OneNet/train_net.py\", line 121, in main\n",
            "    res = Trainer.test(cfg, model)\n",
            "  File \"/content/OneNet/detectron2/engine/defaults.py\", line 526, in test\n",
            "    data_loader = cls.build_test_loader(cfg, dataset_name)\n",
            "  File \"/content/OneNet/detectron2/engine/defaults.py\", line 485, in build_test_loader\n",
            "    return build_detection_test_loader(cfg, dataset_name)\n",
            "  File \"/content/OneNet/detectron2/config/config.py\", line 201, in wrapped\n",
            "    explicit_args = _get_args_from_config(from_config, *args, **kwargs)\n",
            "  File \"/content/OneNet/detectron2/config/config.py\", line 236, in _get_args_from_config\n",
            "    ret = from_config_func(*args, **kwargs)\n",
            "  File \"/content/OneNet/detectron2/data/build.py\", line 399, in _test_loader_from_config\n",
            "    else None,\n",
            "  File \"/content/OneNet/detectron2/data/build.py\", line 222, in get_detection_dataset_dicts\n",
            "    dataset_dicts = [DatasetCatalog.get(dataset_name) for dataset_name in dataset_names]\n",
            "  File \"/content/OneNet/detectron2/data/build.py\", line 222, in <listcomp>\n",
            "    dataset_dicts = [DatasetCatalog.get(dataset_name) for dataset_name in dataset_names]\n",
            "  File \"/content/OneNet/detectron2/data/catalog.py\", line 58, in get\n",
            "    return f()\n",
            "  File \"/content/OneNet/detectron2/data/datasets/coco.py\", line 469, in <lambda>\n",
            "    DatasetCatalog.register(name, lambda: load_coco_json(json_file, image_root, name))\n",
            "  File \"/content/OneNet/detectron2/data/datasets/coco.py\", line 60, in load_coco_json\n",
            "    coco_api = COCO(json_file)\n",
            "  File \"/usr/local/lib/python3.7/dist-packages/pycocotools/coco.py\", line 84, in __init__\n",
            "    with open(annotation_file, 'r') as f:\n",
            "FileNotFoundError: [Errno 2] No such file or directory: 'datasets/coco/annotations/instances_val2017.json'\n"
          ],
          "name": "stdout"
        }
      ]
    },
    {
      "cell_type": "markdown",
      "metadata": {
        "id": "K0Eywc5Jo_tA"
      },
      "source": [
        "# Visualize"
      ]
    },
    {
      "cell_type": "code",
      "metadata": {
        "id": "-cIj9dUdrZbw"
      },
      "source": [
        "from os import listdir\n",
        "from os.path import isfile, join\n",
        "import random\n",
        "import time\n",
        "from IPython.display import Image\n",
        "onlyfiles = [f for f in listdir('/content/OneNet/datasets/coco/test2017/') if isfile(join('/content/OneNet/datasets/coco/test2017/', f))]"
      ],
      "execution_count": null,
      "outputs": []
    },
    {
      "cell_type": "markdown",
      "metadata": {
        "id": "xb6o3CLHRa3M"
      },
      "source": [
        "## Randomly pick a picture from the set and Visualize it"
      ]
    },
    {
      "cell_type": "code",
      "metadata": {
        "id": "4OOjLaYrtBLU"
      },
      "source": [
        "tmpFile = random.choice(onlyfiles)\n",
        "inp = join('/content/OneNet/datasets/coco/test2017/', tmpFile)"
      ],
      "execution_count": null,
      "outputs": []
    },
    {
      "cell_type": "code",
      "metadata": {
        "colab": {
          "base_uri": "https://localhost:8080/"
        },
        "id": "7-c_Hl-ta9s0",
        "outputId": "b93534ef-d98e-457d-9ce5-431bfe891e35"
      },
      "source": [
        "! python demo/demo.py\\\n",
        "    --config-file projects/OneNet/configs/onenet.res18.dcn.yaml \\\n",
        "    --input $inp --output /content/OneNet/output_onenet_r18dcn --confidence-threshold 0.4 \\\n",
        "    --opts MODEL.WEIGHTS /content/OneNet/configs/onenet_r18dcn.pth"
      ],
      "execution_count": null,
      "outputs": [
        {
          "output_type": "stream",
          "text": [
            "\u001b[32m[06/09 10:59:27 detectron2]: \u001b[0mArguments: Namespace(confidence_threshold=0.4, config_file='projects/OneNet/configs/onenet.res18.dcn.yaml', input=['/content/OneNet/datasets/coco/test2017/000000086769.jpg'], opts=['MODEL.WEIGHTS', '/content/OneNet/configs/onenet_r18dcn.pth'], output='/content/OneNet/output_onenet_r18dcn', video_input=None, webcam=False)\n",
            "\u001b[32m[06/09 10:59:31 fvcore.common.checkpoint]: \u001b[0m[Checkpointer] Loading from /content/OneNet/configs/onenet_r18dcn.pth ...\n",
            "  0% 0/1 [00:00<?, ?it/s]\u001b[32m[06/09 10:59:31 detectron2]: \u001b[0m/content/OneNet/datasets/coco/test2017/000000086769.jpg: detected 2 instances in 0.10s\n",
            "100% 1/1 [00:00<00:00,  6.09it/s]\n"
          ],
          "name": "stdout"
        }
      ]
    },
    {
      "cell_type": "code",
      "metadata": {
        "colab": {
          "base_uri": "https://localhost:8080/",
          "height": 657
        },
        "id": "O08s-xOtrN27",
        "outputId": "b1b196af-af91-496b-d74d-a99682ba2b6c"
      },
      "source": [
        "imgs = [f for f in listdir('/content/OneNet/output_onenet_r18dcn/') if isfile(join('/content/OneNet/datasets/coco/test2017/', f))]\n",
        "Image(join('/content/OneNet/output_onenet_r18dcn/', tmpFile))"
      ],
      "execution_count": null,
      "outputs": [
        {
          "output_type": "execute_result",
          "data": {
            "image/jpeg": "[encoded data removed]",
            "text/plain": [
              "<IPython.core.display.Image object>"
            ]
          },
          "metadata": {
            "tags": []
          },
          "execution_count": 77
        }
      ]
    }
  ]
}